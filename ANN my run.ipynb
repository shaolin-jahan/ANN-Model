{
 "cells": [
  {
   "cell_type": "code",
   "execution_count": 2,
   "id": "f4207755",
   "metadata": {},
   "outputs": [],
   "source": [
    "# import necessary packages\n",
    "from matplotlib import pyplot as plt #1\n",
    "#from pandas import read_csv\n",
    "from keras.models import Sequential#2\n",
    "from keras.layers import Dense, Activation #3\n",
    "from keras.wrappers.scikit_learn import KerasRegressor\n",
    "from sklearn.model_selection import cross_val_score#4\n",
    "from sklearn.model_selection import KFold\n",
    "from sklearn.pipeline import Pipeline\n",
    "from sklearn.model_selection import train_test_split\n",
    "import tensorflow as tf\n",
    "\n",
    "from sklearn.preprocessing import StandardScaler #5\n",
    "from sklearn import linear_model\n",
    "from sklearn.tree import DecisionTreeRegressor\n",
    "from sklearn.metrics import mean_squared_error, mean_absolute_error\n",
    "from sklearn.ensemble import RandomForestRegressor\n",
    "\n",
    "import pandas as pd\n",
    "import statistics as stat\n",
    "import scipy as ss\n",
    "from scipy.stats import skew\n",
    "from scipy.stats import kurtosis\n"
   ]
  },
  {
   "cell_type": "code",
   "execution_count": 3,
   "id": "0bedd6ce",
   "metadata": {},
   "outputs": [],
   "source": [
    "# define path to folder where your data is and read data file\n",
    "df = pd.read_csv(\"D:\\eidee\\Others\\Daiyan Sir\\productionData.csv\")"
   ]
  },
  {
   "cell_type": "code",
   "execution_count": 4,
   "id": "c00208a3",
   "metadata": {},
   "outputs": [
    {
     "name": "stdout",
     "output_type": "stream",
     "text": [
      "<class 'pandas.core.frame.DataFrame'>\n",
      "RangeIndex: 21 entries, 0 to 20\n",
      "Data columns (total 11 columns):\n",
      " #   Column                 Non-Null Count  Dtype  \n",
      "---  ------                 --------------  -----  \n",
      " 0   ROP (m/hr)             21 non-null     float64\n",
      " 1   ROP (m/hr) fr Equ      21 non-null     float64\n",
      " 2   Area (m2)              21 non-null     object \n",
      " 3   Diameter (m)           21 non-null     float64\n",
      " 4   Depth of cut (mm/rev)  21 non-null     float64\n",
      " 5   WOB (kN)               21 non-null     float64\n",
      " 6   RPM (rev/min)          21 non-null     float64\n",
      " 7   Torque (kNm)           21 non-null     float64\n",
      " 8   Torque (Nm) from Equ   21 non-null     float64\n",
      " 9   SE (MJ/m3)             21 non-null     float64\n",
      " 10  SE(kWh/m3)             21 non-null     float64\n",
      "dtypes: float64(10), object(1)\n",
      "memory usage: 1.9+ KB\n",
      "None \n",
      "Shape:  (21, 11)\n",
      "Column names: \n",
      "\n"
     ]
    },
    {
     "data": {
      "text/plain": [
       "Index(['ROP (m/hr)', 'ROP (m/hr) fr Equ', 'Area (m2)', 'Diameter (m)',\n",
       "       'Depth of cut (mm/rev)', 'WOB (kN)', 'RPM (rev/min)', 'Torque (kNm)',\n",
       "       'Torque (Nm) from Equ', 'SE (MJ/m3)', 'SE(kWh/m3)'],\n",
       "      dtype='object')"
      ]
     },
     "execution_count": 4,
     "metadata": {},
     "output_type": "execute_result"
    }
   ],
   "source": [
    "#Check some basic information regarding the data\n",
    "print(df.info(), '\\nShape: ', df.shape)\n",
    "print('Column names: \\n')\n",
    "df.columns"
   ]
  },
  {
   "cell_type": "code",
   "execution_count": 5,
   "id": "617ab45a",
   "metadata": {},
   "outputs": [],
   "source": [
    "# Rename columns for ease of use\n",
    "\n",
    "df = df.rename(columns={'ROP (m/hr)': 'ROP'})\n",
    "df = df.rename(columns={'ROP (m/hr) fr Equ': 'ROP_fr_eq'})\n",
    "\n",
    "df = df.rename(columns={'Area (m2)': 'Area'})\n",
    "df = df.rename(columns={'Diameter (m)': 'Diameter'})\n",
    "\n",
    "df = df.rename(columns={'Depth of cut (mm/rev)': 'Depth_of_cut'})\n",
    "df = df.rename(columns={'WOB (kN)': 'WOB'})\n",
    "\n",
    "df = df.rename(columns={'RPM (rev/min)': 'RPM'})\n",
    "df = df.rename(columns={'Torque (kNm)': 'Torque'})\n",
    "\n",
    "df = df.rename(columns={'Torque (Nm) from Equ': 'Torque_from_Equ'})\n",
    "\n",
    "df = df.rename(columns={'SE (MJ/m3)': 'SE_mj'})\n",
    "df = df.rename(columns={'SE(kWh/m3)': 'SE_kwh'})"
   ]
  },
  {
   "cell_type": "code",
   "execution_count": 6,
   "id": "529593c9",
   "metadata": {},
   "outputs": [
    {
     "name": "stdout",
     "output_type": "stream",
     "text": [
      "    ROP  Depth_of_cut    WOB   RPM  Torque  SE_kwh\n",
      "0  0.76      1.541596  718.5  8.14    29.2  135.36\n",
      "1  0.70      1.293456  608.8  8.14    28.9  144.00\n",
      "2  0.51      0.989367  497.2  8.42    23.6  168.48\n",
      "3  1.03      1.564488  730.7  8.14    37.0  126.36\n",
      "4  0.50      1.008401  503.9  8.14    25.0  179.28\n"
     ]
    }
   ],
   "source": [
    "# select columns that are necessary\n",
    "feature_names = ['ROP', 'Depth_of_cut','WOB','RPM','Torque','SE_kwh']\n",
    "df2 = df[feature_names] # define a new dataframe and keep the original\n",
    "print(df2.head())"
   ]
  },
  {
   "cell_type": "code",
   "execution_count": 7,
   "id": "d941c3ed",
   "metadata": {},
   "outputs": [
    {
     "name": "stdout",
     "output_type": "stream",
     "text": [
      "             ROP  Depth_of_cut         WOB        RPM     Torque      SE_kwh\n",
      "count  21.000000     21.000000   21.000000  21.000000  21.000000   21.000000\n",
      "mean    0.583333      1.158442  565.195238   8.118095  26.700000  170.280000\n",
      "std     0.198074      0.325098  124.725372   0.241384   4.888558   33.264468\n",
      "min     0.300000      0.459498  307.000000   7.500000  19.400000  126.360000\n",
      "25%     0.410000      0.988798  497.000000   8.000000  22.500000  144.000000\n",
      "50%     0.530000      1.264407  597.500000   8.140000  26.100000  164.520000\n",
      "75%     0.700000      1.435963  668.000000   8.280000  29.200000  190.440000\n",
      "max     1.030000      1.564488  730.700000   8.420000  37.000000  240.840000\n"
     ]
    }
   ],
   "source": [
    "print(df2.describe()) # we need to scale the data to normalize"
   ]
  },
  {
   "cell_type": "code",
   "execution_count": 8,
   "id": "9206a197",
   "metadata": {},
   "outputs": [
    {
     "name": "stdout",
     "output_type": "stream",
     "text": [
      "0.5833333333333334\n"
     ]
    }
   ],
   "source": [
    "#statistical analysis\n",
    "stat.mean(df.ROP)\n",
    "M= stat.mean(df.ROP)\n",
    "print(M)"
   ]
  },
  {
   "cell_type": "code",
   "execution_count": 9,
   "id": "6678d66f",
   "metadata": {},
   "outputs": [
    {
     "data": {
      "text/plain": [
       "0.53"
      ]
     },
     "execution_count": 9,
     "metadata": {},
     "output_type": "execute_result"
    }
   ],
   "source": [
    "stat.median(df.ROP)"
   ]
  },
  {
   "cell_type": "code",
   "execution_count": 10,
   "id": "fe4d30f1",
   "metadata": {},
   "outputs": [
    {
     "data": {
      "text/plain": [
       "0.53"
      ]
     },
     "execution_count": 10,
     "metadata": {},
     "output_type": "execute_result"
    }
   ],
   "source": [
    "stat.median_low(df.ROP)"
   ]
  },
  {
   "cell_type": "code",
   "execution_count": 11,
   "id": "a81e6f65",
   "metadata": {},
   "outputs": [
    {
     "data": {
      "text/plain": [
       "0.53"
      ]
     },
     "execution_count": 11,
     "metadata": {},
     "output_type": "execute_result"
    }
   ],
   "source": [
    "stat.median_high(df.ROP)"
   ]
  },
  {
   "cell_type": "code",
   "execution_count": 12,
   "id": "13f7a1ad",
   "metadata": {},
   "outputs": [
    {
     "data": {
      "text/plain": [
       "0.51"
      ]
     },
     "execution_count": 12,
     "metadata": {},
     "output_type": "execute_result"
    }
   ],
   "source": [
    "stat.mode(df.ROP)"
   ]
  },
  {
   "cell_type": "code",
   "execution_count": 13,
   "id": "e2f25967",
   "metadata": {},
   "outputs": [
    {
     "data": {
      "text/plain": [
       "0.5209942911494412"
      ]
     },
     "execution_count": 13,
     "metadata": {},
     "output_type": "execute_result"
    }
   ],
   "source": [
    "stat.harmonic_mean(df.ROP)"
   ]
  },
  {
   "cell_type": "code",
   "execution_count": 14,
   "id": "a3dff9d0",
   "metadata": {},
   "outputs": [
    {
     "data": {
      "text/plain": [
       "0.5516489806600607"
      ]
     },
     "execution_count": 14,
     "metadata": {},
     "output_type": "execute_result"
    }
   ],
   "source": [
    "stat.geometric_mean(df.ROP)"
   ]
  },
  {
   "cell_type": "code",
   "execution_count": 15,
   "id": "ac1fcb93",
   "metadata": {},
   "outputs": [],
   "source": [
    "stat.stdev(df.ROP)#6\n",
    "STD= stat.stdev(df.ROP)"
   ]
  },
  {
   "cell_type": "code",
   "execution_count": 16,
   "id": "5d396917",
   "metadata": {},
   "outputs": [
    {
     "data": {
      "text/plain": [
       "0.19330048982110565"
      ]
     },
     "execution_count": 16,
     "metadata": {},
     "output_type": "execute_result"
    }
   ],
   "source": [
    "stat.pstdev(df.ROP)"
   ]
  },
  {
   "cell_type": "code",
   "execution_count": 17,
   "id": "9d936835",
   "metadata": {},
   "outputs": [
    {
     "data": {
      "text/plain": [
       "0.039233333333333335"
      ]
     },
     "execution_count": 17,
     "metadata": {},
     "output_type": "execute_result"
    }
   ],
   "source": [
    "stat.variance(df.ROP)"
   ]
  },
  {
   "cell_type": "code",
   "execution_count": 18,
   "id": "03cc96bc",
   "metadata": {},
   "outputs": [
    {
     "data": {
      "text/plain": [
       "0.037365079365079365"
      ]
     },
     "execution_count": 18,
     "metadata": {},
     "output_type": "execute_result"
    }
   ],
   "source": [
    "stat.pvariance(df.ROP)"
   ]
  },
  {
   "cell_type": "code",
   "execution_count": 19,
   "id": "b84b6f25",
   "metadata": {},
   "outputs": [
    {
     "name": "stdout",
     "output_type": "stream",
     "text": [
      "33.95555318113275\n"
     ]
    }
   ],
   "source": [
    "CV= (STD/M)*100\n",
    "print(CV)"
   ]
  },
  {
   "cell_type": "code",
   "execution_count": 20,
   "id": "29408289",
   "metadata": {},
   "outputs": [
    {
     "data": {
      "text/plain": [
       "0.45975202537931825"
      ]
     },
     "execution_count": 20,
     "metadata": {},
     "output_type": "execute_result"
    }
   ],
   "source": [
    "skew(df.ROP)"
   ]
  },
  {
   "cell_type": "code",
   "execution_count": 21,
   "id": "7acb398f",
   "metadata": {},
   "outputs": [
    {
     "data": {
      "text/plain": [
       "-0.5531842183336955"
      ]
     },
     "execution_count": 21,
     "metadata": {},
     "output_type": "execute_result"
    }
   ],
   "source": [
    "kurtosis(df.ROP)"
   ]
  },
  {
   "cell_type": "code",
   "execution_count": 22,
   "id": "da710f19",
   "metadata": {},
   "outputs": [],
   "source": [
    "# Here we start processing for deep learning model\n",
    "# First, Split into features (X) and target (Y = ROP)\n",
    "X = df2.drop('ROP', axis = 1)\n",
    "y = df2['ROP']"
   ]
  },
  {
   "cell_type": "code",
   "execution_count": 23,
   "id": "24dea2ee",
   "metadata": {},
   "outputs": [],
   "source": [
    "# Split into train and test, 0.2 = 20% data assigned for testing, 80% testing\n",
    "X_train, X_test, y_train, y_test = train_test_split(X, y, test_size = 0.2, random_state = 20) #7"
   ]
  },
  {
   "cell_type": "code",
   "execution_count": 24,
   "id": "e1fb4397",
   "metadata": {},
   "outputs": [
    {
     "data": {
      "text/plain": [
       "((16, 5), (5, 5))"
      ]
     },
     "execution_count": 24,
     "metadata": {},
     "output_type": "execute_result"
    }
   ],
   "source": [
    "(X_train.shape, X_test.shape)"
   ]
  },
  {
   "cell_type": "code",
   "execution_count": 25,
   "id": "13c3558c",
   "metadata": {},
   "outputs": [
    {
     "data": {
      "text/html": [
       "<style>#sk-container-id-1 {color: black;background-color: white;}#sk-container-id-1 pre{padding: 0;}#sk-container-id-1 div.sk-toggleable {background-color: white;}#sk-container-id-1 label.sk-toggleable__label {cursor: pointer;display: block;width: 100%;margin-bottom: 0;padding: 0.3em;box-sizing: border-box;text-align: center;}#sk-container-id-1 label.sk-toggleable__label-arrow:before {content: \"▸\";float: left;margin-right: 0.25em;color: #696969;}#sk-container-id-1 label.sk-toggleable__label-arrow:hover:before {color: black;}#sk-container-id-1 div.sk-estimator:hover label.sk-toggleable__label-arrow:before {color: black;}#sk-container-id-1 div.sk-toggleable__content {max-height: 0;max-width: 0;overflow: hidden;text-align: left;background-color: #f0f8ff;}#sk-container-id-1 div.sk-toggleable__content pre {margin: 0.2em;color: black;border-radius: 0.25em;background-color: #f0f8ff;}#sk-container-id-1 input.sk-toggleable__control:checked~div.sk-toggleable__content {max-height: 200px;max-width: 100%;overflow: auto;}#sk-container-id-1 input.sk-toggleable__control:checked~label.sk-toggleable__label-arrow:before {content: \"▾\";}#sk-container-id-1 div.sk-estimator input.sk-toggleable__control:checked~label.sk-toggleable__label {background-color: #d4ebff;}#sk-container-id-1 div.sk-label input.sk-toggleable__control:checked~label.sk-toggleable__label {background-color: #d4ebff;}#sk-container-id-1 input.sk-hidden--visually {border: 0;clip: rect(1px 1px 1px 1px);clip: rect(1px, 1px, 1px, 1px);height: 1px;margin: -1px;overflow: hidden;padding: 0;position: absolute;width: 1px;}#sk-container-id-1 div.sk-estimator {font-family: monospace;background-color: #f0f8ff;border: 1px dotted black;border-radius: 0.25em;box-sizing: border-box;margin-bottom: 0.5em;}#sk-container-id-1 div.sk-estimator:hover {background-color: #d4ebff;}#sk-container-id-1 div.sk-parallel-item::after {content: \"\";width: 100%;border-bottom: 1px solid gray;flex-grow: 1;}#sk-container-id-1 div.sk-label:hover label.sk-toggleable__label {background-color: #d4ebff;}#sk-container-id-1 div.sk-serial::before {content: \"\";position: absolute;border-left: 1px solid gray;box-sizing: border-box;top: 0;bottom: 0;left: 50%;z-index: 0;}#sk-container-id-1 div.sk-serial {display: flex;flex-direction: column;align-items: center;background-color: white;padding-right: 0.2em;padding-left: 0.2em;position: relative;}#sk-container-id-1 div.sk-item {position: relative;z-index: 1;}#sk-container-id-1 div.sk-parallel {display: flex;align-items: stretch;justify-content: center;background-color: white;position: relative;}#sk-container-id-1 div.sk-item::before, #sk-container-id-1 div.sk-parallel-item::before {content: \"\";position: absolute;border-left: 1px solid gray;box-sizing: border-box;top: 0;bottom: 0;left: 50%;z-index: -1;}#sk-container-id-1 div.sk-parallel-item {display: flex;flex-direction: column;z-index: 1;position: relative;background-color: white;}#sk-container-id-1 div.sk-parallel-item:first-child::after {align-self: flex-end;width: 50%;}#sk-container-id-1 div.sk-parallel-item:last-child::after {align-self: flex-start;width: 50%;}#sk-container-id-1 div.sk-parallel-item:only-child::after {width: 0;}#sk-container-id-1 div.sk-dashed-wrapped {border: 1px dashed gray;margin: 0 0.4em 0.5em 0.4em;box-sizing: border-box;padding-bottom: 0.4em;background-color: white;}#sk-container-id-1 div.sk-label label {font-family: monospace;font-weight: bold;display: inline-block;line-height: 1.2em;}#sk-container-id-1 div.sk-label-container {text-align: center;}#sk-container-id-1 div.sk-container {/* jupyter's `normalize.less` sets `[hidden] { display: none; }` but bootstrap.min.css set `[hidden] { display: none !important; }` so we also need the `!important` here to be able to override the default hidden behavior on the sphinx rendered scikit-learn.org. See: https://github.com/scikit-learn/scikit-learn/issues/21755 */display: inline-block !important;position: relative;}#sk-container-id-1 div.sk-text-repr-fallback {display: none;}</style><div id=\"sk-container-id-1\" class=\"sk-top-container\"><div class=\"sk-text-repr-fallback\"><pre>StandardScaler()</pre><b>In a Jupyter environment, please rerun this cell to show the HTML representation or trust the notebook. <br />On GitHub, the HTML representation is unable to render, please try loading this page with nbviewer.org.</b></div><div class=\"sk-container\" hidden><div class=\"sk-item\"><div class=\"sk-estimator sk-toggleable\"><input class=\"sk-toggleable__control sk-hidden--visually\" id=\"sk-estimator-id-1\" type=\"checkbox\" checked><label for=\"sk-estimator-id-1\" class=\"sk-toggleable__label sk-toggleable__label-arrow\">StandardScaler</label><div class=\"sk-toggleable__content\"><pre>StandardScaler()</pre></div></div></div></div></div>"
      ],
      "text/plain": [
       "StandardScaler()"
      ]
     },
     "execution_count": 25,
     "metadata": {},
     "output_type": "execute_result"
    }
   ],
   "source": [
    "#Scale data, otherwise model will fail.\n",
    "#Standardize features by removing the mean and scaling to unit variance\n",
    "scaler=StandardScaler() #8\n",
    "scaler.fit(X_train)"
   ]
  },
  {
   "cell_type": "code",
   "execution_count": 26,
   "id": "d82684ee",
   "metadata": {},
   "outputs": [
    {
     "name": "stdout",
     "output_type": "stream",
     "text": [
      "    Depth_of_cut    WOB   RPM  Torque  SE_kwh\n",
      "12      0.745739  412.0  8.42    20.4  240.84\n",
      "13      0.988798  497.0  8.28    22.5  196.56\n",
      "17      0.733535  407.7  8.28    21.8  190.44\n",
      "14      1.265185  597.8  8.14    25.7  177.12\n",
      "20      1.018038  507.3  8.00    24.7  160.92\n",
      "10      1.264407  597.5  7.74    26.1  185.40\n",
      "5       0.733535  407.7  8.28    21.0  193.68\n",
      "8       1.129076  547.0  8.28    26.4  150.12\n",
      "6       1.550168  723.0  7.71    36.0  136.08\n",
      "0       1.541596  718.5  8.14    29.2  135.36\n",
      "2       0.989367  497.2  8.42    23.6  168.48\n",
      "7       1.435963  668.0  8.31    31.7  138.96\n",
      "11      1.552053  724.0  7.50    30.0  164.52\n",
      "9       0.914528  471.0  8.00    22.2  219.24\n",
      "15      1.288097  606.7  8.14    28.5  144.00\n",
      "3       1.564488  730.7  8.14    37.0  126.36\n"
     ]
    }
   ],
   "source": [
    "print(X_train)"
   ]
  },
  {
   "cell_type": "code",
   "execution_count": 27,
   "id": "93a5547f",
   "metadata": {},
   "outputs": [],
   "source": [
    "X_train_scaled = scaler.transform(X_train)\n",
    "X_test_scaled = scaler.transform(X_test) #preprocessing ends here\n"
   ]
  },
  {
   "cell_type": "code",
   "execution_count": 28,
   "id": "7b9e3d46",
   "metadata": {},
   "outputs": [
    {
     "name": "stdout",
     "output_type": "stream",
     "text": [
      "Model: \"sequential\"\n",
      "_________________________________________________________________\n",
      " Layer (type)                Output Shape              Param #   \n",
      "=================================================================\n",
      " dense (Dense)               (None, 128)               768       \n",
      "                                                                 \n",
      " dense_1 (Dense)             (None, 64)                8256      \n",
      "                                                                 \n",
      " dense_2 (Dense)             (None, 1)                 65        \n",
      "                                                                 \n",
      "=================================================================\n",
      "Total params: 9,089\n",
      "Trainable params: 9,089\n",
      "Non-trainable params: 0\n",
      "_________________________________________________________________\n"
     ]
    }
   ],
   "source": [
    "# define the model\n",
    "#Experiment with deeper and wider networks\n",
    "# We are using TWO dense layers, 1st with 128 nodes, 2nd with 64 nodes\n",
    "# input_dim = predictor variables\n",
    "# A Sequential model is appropriate for a plain stack of layers where each layer has exactly one input tensor and one output tensor.\n",
    "model = Sequential() #9\n",
    "model.add(Dense(128, input_dim=5, activation='relu'))\n",
    "model.add(Dense(64, activation='relu'))\n",
    "#Output layer\n",
    "model.add(Dense(1, activation='linear'))\n",
    "\n",
    "model.compile(loss='mean_squared_error', optimizer='adam', metrics=['mae']) #9\n",
    "#Adam uses estimations of the first and second moments of the gradient to adapt the learning rate for each weight of the neural network. \n",
    "model.summary()"
   ]
  },
  {
   "cell_type": "code",
   "execution_count": 29,
   "id": "44d3c40d",
   "metadata": {},
   "outputs": [
    {
     "name": "stdout",
     "output_type": "stream",
     "text": [
      "Epoch 1/100\n",
      "1/1 [==============================] - 2s 2s/step - loss: 0.7037 - mae: 0.8109 - val_loss: 0.8170 - val_mae: 0.8856\n",
      "Epoch 2/100\n",
      "1/1 [==============================] - 0s 74ms/step - loss: 0.5736 - mae: 0.7362 - val_loss: 0.6641 - val_mae: 0.7981\n",
      "Epoch 3/100\n",
      "1/1 [==============================] - 0s 68ms/step - loss: 0.4616 - mae: 0.6640 - val_loss: 0.5311 - val_mae: 0.7121\n",
      "Epoch 4/100\n",
      "1/1 [==============================] - 0s 69ms/step - loss: 0.3661 - mae: 0.5940 - val_loss: 0.4187 - val_mae: 0.6279\n",
      "Epoch 5/100\n",
      "1/1 [==============================] - 0s 64ms/step - loss: 0.2865 - mae: 0.5268 - val_loss: 0.3236 - val_mae: 0.5457\n",
      "Epoch 6/100\n",
      "1/1 [==============================] - 0s 63ms/step - loss: 0.2201 - mae: 0.4614 - val_loss: 0.2416 - val_mae: 0.4627\n",
      "Epoch 7/100\n",
      "1/1 [==============================] - 0s 62ms/step - loss: 0.1660 - mae: 0.3983 - val_loss: 0.1779 - val_mae: 0.3827\n",
      "Epoch 8/100\n",
      "1/1 [==============================] - 0s 58ms/step - loss: 0.1231 - mae: 0.3374 - val_loss: 0.1304 - val_mae: 0.3080\n",
      "Epoch 9/100\n",
      "1/1 [==============================] - 0s 80ms/step - loss: 0.0906 - mae: 0.2800 - val_loss: 0.0968 - val_mae: 0.2820\n",
      "Epoch 10/100\n",
      "1/1 [==============================] - 0s 65ms/step - loss: 0.0666 - mae: 0.2345 - val_loss: 0.0783 - val_mae: 0.2589\n",
      "Epoch 11/100\n",
      "1/1 [==============================] - 0s 60ms/step - loss: 0.0507 - mae: 0.1972 - val_loss: 0.0716 - val_mae: 0.2363\n",
      "Epoch 12/100\n",
      "1/1 [==============================] - 0s 61ms/step - loss: 0.0420 - mae: 0.1669 - val_loss: 0.0746 - val_mae: 0.2152\n",
      "Epoch 13/100\n",
      "1/1 [==============================] - 0s 63ms/step - loss: 0.0387 - mae: 0.1602 - val_loss: 0.0848 - val_mae: 0.2124\n",
      "Epoch 14/100\n",
      "1/1 [==============================] - 0s 66ms/step - loss: 0.0393 - mae: 0.1606 - val_loss: 0.1001 - val_mae: 0.2506\n",
      "Epoch 15/100\n",
      "1/1 [==============================] - 0s 60ms/step - loss: 0.0422 - mae: 0.1659 - val_loss: 0.1177 - val_mae: 0.2825\n",
      "Epoch 16/100\n",
      "1/1 [==============================] - 0s 65ms/step - loss: 0.0460 - mae: 0.1735 - val_loss: 0.1356 - val_mae: 0.3085\n",
      "Epoch 17/100\n",
      "1/1 [==============================] - 0s 63ms/step - loss: 0.0495 - mae: 0.1811 - val_loss: 0.1508 - val_mae: 0.3271\n",
      "Epoch 18/100\n",
      "1/1 [==============================] - 0s 70ms/step - loss: 0.0519 - mae: 0.1879 - val_loss: 0.1623 - val_mae: 0.3392\n",
      "Epoch 19/100\n",
      "1/1 [==============================] - 0s 62ms/step - loss: 0.0528 - mae: 0.1921 - val_loss: 0.1692 - val_mae: 0.3452\n",
      "Epoch 20/100\n",
      "1/1 [==============================] - 0s 60ms/step - loss: 0.0520 - mae: 0.1933 - val_loss: 0.1711 - val_mae: 0.3454\n",
      "Epoch 21/100\n",
      "1/1 [==============================] - 0s 59ms/step - loss: 0.0498 - mae: 0.1915 - val_loss: 0.1680 - val_mae: 0.3396\n",
      "Epoch 22/100\n",
      "1/1 [==============================] - 0s 60ms/step - loss: 0.0463 - mae: 0.1869 - val_loss: 0.1609 - val_mae: 0.3289\n",
      "Epoch 23/100\n",
      "1/1 [==============================] - 0s 60ms/step - loss: 0.0423 - mae: 0.1804 - val_loss: 0.1510 - val_mae: 0.3148\n",
      "Epoch 24/100\n",
      "1/1 [==============================] - 0s 63ms/step - loss: 0.0378 - mae: 0.1723 - val_loss: 0.1395 - val_mae: 0.2986\n",
      "Epoch 25/100\n",
      "1/1 [==============================] - 0s 64ms/step - loss: 0.0332 - mae: 0.1627 - val_loss: 0.1273 - val_mae: 0.2807\n",
      "Epoch 26/100\n",
      "1/1 [==============================] - 0s 66ms/step - loss: 0.0288 - mae: 0.1521 - val_loss: 0.1151 - val_mae: 0.2718\n",
      "Epoch 27/100\n",
      "1/1 [==============================] - 0s 64ms/step - loss: 0.0248 - mae: 0.1408 - val_loss: 0.1034 - val_mae: 0.2628\n",
      "Epoch 28/100\n",
      "1/1 [==============================] - 0s 62ms/step - loss: 0.0214 - mae: 0.1295 - val_loss: 0.0927 - val_mae: 0.2530\n",
      "Epoch 29/100\n",
      "1/1 [==============================] - 0s 67ms/step - loss: 0.0186 - mae: 0.1186 - val_loss: 0.0833 - val_mae: 0.2431\n",
      "Epoch 30/100\n",
      "1/1 [==============================] - 0s 67ms/step - loss: 0.0165 - mae: 0.1080 - val_loss: 0.0754 - val_mae: 0.2332\n",
      "Epoch 31/100\n",
      "1/1 [==============================] - 0s 65ms/step - loss: 0.0150 - mae: 0.0977 - val_loss: 0.0688 - val_mae: 0.2237\n",
      "Epoch 32/100\n",
      "1/1 [==============================] - 0s 62ms/step - loss: 0.0140 - mae: 0.0879 - val_loss: 0.0635 - val_mae: 0.2145\n",
      "Epoch 33/100\n",
      "1/1 [==============================] - 0s 67ms/step - loss: 0.0133 - mae: 0.0788 - val_loss: 0.0592 - val_mae: 0.2057\n",
      "Epoch 34/100\n",
      "1/1 [==============================] - 0s 63ms/step - loss: 0.0130 - mae: 0.0749 - val_loss: 0.0558 - val_mae: 0.1977\n",
      "Epoch 35/100\n",
      "1/1 [==============================] - 0s 61ms/step - loss: 0.0129 - mae: 0.0751 - val_loss: 0.0532 - val_mae: 0.1905\n",
      "Epoch 36/100\n",
      "1/1 [==============================] - 0s 61ms/step - loss: 0.0128 - mae: 0.0757 - val_loss: 0.0513 - val_mae: 0.1886\n",
      "Epoch 37/100\n",
      "1/1 [==============================] - 0s 62ms/step - loss: 0.0126 - mae: 0.0759 - val_loss: 0.0497 - val_mae: 0.1890\n",
      "Epoch 38/100\n",
      "1/1 [==============================] - 0s 66ms/step - loss: 0.0124 - mae: 0.0767 - val_loss: 0.0485 - val_mae: 0.1888\n",
      "Epoch 39/100\n",
      "1/1 [==============================] - 0s 63ms/step - loss: 0.0120 - mae: 0.0764 - val_loss: 0.0475 - val_mae: 0.1878\n",
      "Epoch 40/100\n",
      "1/1 [==============================] - 0s 62ms/step - loss: 0.0115 - mae: 0.0749 - val_loss: 0.0467 - val_mae: 0.1862\n",
      "Epoch 41/100\n",
      "1/1 [==============================] - 0s 56ms/step - loss: 0.0109 - mae: 0.0725 - val_loss: 0.0461 - val_mae: 0.1840\n",
      "Epoch 42/100\n",
      "1/1 [==============================] - 0s 68ms/step - loss: 0.0102 - mae: 0.0698 - val_loss: 0.0457 - val_mae: 0.1814\n",
      "Epoch 43/100\n",
      "1/1 [==============================] - 0s 61ms/step - loss: 0.0095 - mae: 0.0694 - val_loss: 0.0457 - val_mae: 0.1783\n",
      "Epoch 44/100\n",
      "1/1 [==============================] - 0s 63ms/step - loss: 0.0088 - mae: 0.0709 - val_loss: 0.0460 - val_mae: 0.1753\n",
      "Epoch 45/100\n",
      "1/1 [==============================] - 0s 62ms/step - loss: 0.0082 - mae: 0.0725 - val_loss: 0.0466 - val_mae: 0.1726\n",
      "Epoch 46/100\n",
      "1/1 [==============================] - 0s 61ms/step - loss: 0.0077 - mae: 0.0737 - val_loss: 0.0476 - val_mae: 0.1702\n",
      "Epoch 47/100\n",
      "1/1 [==============================] - 0s 66ms/step - loss: 0.0073 - mae: 0.0749 - val_loss: 0.0489 - val_mae: 0.1715\n",
      "Epoch 48/100\n",
      "1/1 [==============================] - 0s 65ms/step - loss: 0.0070 - mae: 0.0756 - val_loss: 0.0504 - val_mae: 0.1738\n",
      "Epoch 49/100\n",
      "1/1 [==============================] - 0s 62ms/step - loss: 0.0068 - mae: 0.0758 - val_loss: 0.0520 - val_mae: 0.1761\n",
      "Epoch 50/100\n",
      "1/1 [==============================] - 0s 63ms/step - loss: 0.0065 - mae: 0.0753 - val_loss: 0.0536 - val_mae: 0.1783\n",
      "Epoch 51/100\n",
      "1/1 [==============================] - 0s 62ms/step - loss: 0.0063 - mae: 0.0742 - val_loss: 0.0551 - val_mae: 0.1803\n",
      "Epoch 52/100\n",
      "1/1 [==============================] - 0s 60ms/step - loss: 0.0061 - mae: 0.0726 - val_loss: 0.0564 - val_mae: 0.1819\n",
      "Epoch 53/100\n",
      "1/1 [==============================] - 0s 62ms/step - loss: 0.0058 - mae: 0.0703 - val_loss: 0.0575 - val_mae: 0.1831\n",
      "Epoch 54/100\n",
      "1/1 [==============================] - 0s 58ms/step - loss: 0.0055 - mae: 0.0677 - val_loss: 0.0585 - val_mae: 0.1845\n",
      "Epoch 55/100\n",
      "1/1 [==============================] - 0s 62ms/step - loss: 0.0052 - mae: 0.0648 - val_loss: 0.0592 - val_mae: 0.1854\n",
      "Epoch 56/100\n",
      "1/1 [==============================] - 0s 58ms/step - loss: 0.0050 - mae: 0.0619 - val_loss: 0.0596 - val_mae: 0.1859\n",
      "Epoch 57/100\n",
      "1/1 [==============================] - 0s 57ms/step - loss: 0.0047 - mae: 0.0592 - val_loss: 0.0599 - val_mae: 0.1859\n",
      "Epoch 58/100\n",
      "1/1 [==============================] - 0s 56ms/step - loss: 0.0044 - mae: 0.0562 - val_loss: 0.0600 - val_mae: 0.1867\n",
      "Epoch 59/100\n",
      "1/1 [==============================] - 0s 56ms/step - loss: 0.0042 - mae: 0.0531 - val_loss: 0.0600 - val_mae: 0.1896\n",
      "Epoch 60/100\n",
      "1/1 [==============================] - 0s 55ms/step - loss: 0.0040 - mae: 0.0500 - val_loss: 0.0598 - val_mae: 0.1921\n",
      "Epoch 61/100\n",
      "1/1 [==============================] - 0s 56ms/step - loss: 0.0038 - mae: 0.0473 - val_loss: 0.0595 - val_mae: 0.1942\n",
      "Epoch 62/100\n",
      "1/1 [==============================] - 0s 56ms/step - loss: 0.0036 - mae: 0.0450 - val_loss: 0.0592 - val_mae: 0.1960\n",
      "Epoch 63/100\n"
     ]
    },
    {
     "name": "stdout",
     "output_type": "stream",
     "text": [
      "1/1 [==============================] - 0s 55ms/step - loss: 0.0035 - mae: 0.0432 - val_loss: 0.0588 - val_mae: 0.1974\n",
      "Epoch 64/100\n",
      "1/1 [==============================] - 0s 58ms/step - loss: 0.0033 - mae: 0.0420 - val_loss: 0.0583 - val_mae: 0.1983\n",
      "Epoch 65/100\n",
      "1/1 [==============================] - 0s 61ms/step - loss: 0.0032 - mae: 0.0413 - val_loss: 0.0579 - val_mae: 0.1989\n",
      "Epoch 66/100\n",
      "1/1 [==============================] - 0s 59ms/step - loss: 0.0030 - mae: 0.0408 - val_loss: 0.0575 - val_mae: 0.1991\n",
      "Epoch 67/100\n",
      "1/1 [==============================] - 0s 63ms/step - loss: 0.0029 - mae: 0.0404 - val_loss: 0.0571 - val_mae: 0.1991\n",
      "Epoch 68/100\n",
      "1/1 [==============================] - 0s 60ms/step - loss: 0.0028 - mae: 0.0401 - val_loss: 0.0567 - val_mae: 0.1987\n",
      "Epoch 69/100\n",
      "1/1 [==============================] - 0s 63ms/step - loss: 0.0027 - mae: 0.0398 - val_loss: 0.0563 - val_mae: 0.1981\n",
      "Epoch 70/100\n",
      "1/1 [==============================] - 0s 63ms/step - loss: 0.0025 - mae: 0.0395 - val_loss: 0.0559 - val_mae: 0.1973\n",
      "Epoch 71/100\n",
      "1/1 [==============================] - 0s 55ms/step - loss: 0.0024 - mae: 0.0392 - val_loss: 0.0556 - val_mae: 0.1964\n",
      "Epoch 72/100\n",
      "1/1 [==============================] - 0s 57ms/step - loss: 0.0023 - mae: 0.0387 - val_loss: 0.0553 - val_mae: 0.1954\n",
      "Epoch 73/100\n",
      "1/1 [==============================] - 0s 56ms/step - loss: 0.0022 - mae: 0.0381 - val_loss: 0.0550 - val_mae: 0.1946\n",
      "Epoch 74/100\n",
      "1/1 [==============================] - 0s 59ms/step - loss: 0.0021 - mae: 0.0373 - val_loss: 0.0547 - val_mae: 0.1937\n",
      "Epoch 75/100\n",
      "1/1 [==============================] - 0s 57ms/step - loss: 0.0020 - mae: 0.0364 - val_loss: 0.0545 - val_mae: 0.1930\n",
      "Epoch 76/100\n",
      "1/1 [==============================] - 0s 59ms/step - loss: 0.0019 - mae: 0.0354 - val_loss: 0.0542 - val_mae: 0.1923\n",
      "Epoch 77/100\n",
      "1/1 [==============================] - 0s 60ms/step - loss: 0.0018 - mae: 0.0342 - val_loss: 0.0540 - val_mae: 0.1917\n",
      "Epoch 78/100\n",
      "1/1 [==============================] - 0s 56ms/step - loss: 0.0018 - mae: 0.0329 - val_loss: 0.0537 - val_mae: 0.1912\n",
      "Epoch 79/100\n",
      "1/1 [==============================] - 0s 60ms/step - loss: 0.0017 - mae: 0.0317 - val_loss: 0.0534 - val_mae: 0.1907\n",
      "Epoch 80/100\n",
      "1/1 [==============================] - 0s 61ms/step - loss: 0.0016 - mae: 0.0307 - val_loss: 0.0531 - val_mae: 0.1901\n",
      "Epoch 81/100\n",
      "1/1 [==============================] - 0s 59ms/step - loss: 0.0015 - mae: 0.0297 - val_loss: 0.0527 - val_mae: 0.1896\n",
      "Epoch 82/100\n",
      "1/1 [==============================] - 0s 58ms/step - loss: 0.0014 - mae: 0.0289 - val_loss: 0.0524 - val_mae: 0.1891\n",
      "Epoch 83/100\n",
      "1/1 [==============================] - 0s 58ms/step - loss: 0.0014 - mae: 0.0282 - val_loss: 0.0519 - val_mae: 0.1886\n",
      "Epoch 84/100\n",
      "1/1 [==============================] - 0s 59ms/step - loss: 0.0013 - mae: 0.0275 - val_loss: 0.0515 - val_mae: 0.1881\n",
      "Epoch 85/100\n",
      "1/1 [==============================] - 0s 55ms/step - loss: 0.0013 - mae: 0.0269 - val_loss: 0.0511 - val_mae: 0.1876\n",
      "Epoch 86/100\n",
      "1/1 [==============================] - 0s 58ms/step - loss: 0.0012 - mae: 0.0263 - val_loss: 0.0506 - val_mae: 0.1871\n",
      "Epoch 87/100\n",
      "1/1 [==============================] - 0s 56ms/step - loss: 0.0012 - mae: 0.0258 - val_loss: 0.0501 - val_mae: 0.1865\n",
      "Epoch 88/100\n",
      "1/1 [==============================] - 0s 56ms/step - loss: 0.0011 - mae: 0.0252 - val_loss: 0.0497 - val_mae: 0.1860\n",
      "Epoch 89/100\n",
      "1/1 [==============================] - 0s 57ms/step - loss: 0.0011 - mae: 0.0247 - val_loss: 0.0493 - val_mae: 0.1855\n",
      "Epoch 90/100\n",
      "1/1 [==============================] - 0s 57ms/step - loss: 0.0010 - mae: 0.0242 - val_loss: 0.0489 - val_mae: 0.1850\n",
      "Epoch 91/100\n",
      "1/1 [==============================] - 0s 57ms/step - loss: 9.6985e-04 - mae: 0.0237 - val_loss: 0.0485 - val_mae: 0.1845\n",
      "Epoch 92/100\n",
      "1/1 [==============================] - 0s 57ms/step - loss: 9.3250e-04 - mae: 0.0232 - val_loss: 0.0482 - val_mae: 0.1841\n",
      "Epoch 93/100\n",
      "1/1 [==============================] - 0s 58ms/step - loss: 8.9869e-04 - mae: 0.0229 - val_loss: 0.0479 - val_mae: 0.1837\n",
      "Epoch 94/100\n",
      "1/1 [==============================] - 0s 57ms/step - loss: 8.6657e-04 - mae: 0.0227 - val_loss: 0.0477 - val_mae: 0.1834\n",
      "Epoch 95/100\n",
      "1/1 [==============================] - 0s 58ms/step - loss: 8.3565e-04 - mae: 0.0224 - val_loss: 0.0475 - val_mae: 0.1832\n",
      "Epoch 96/100\n",
      "1/1 [==============================] - 0s 57ms/step - loss: 8.0589e-04 - mae: 0.0221 - val_loss: 0.0474 - val_mae: 0.1831\n",
      "Epoch 97/100\n",
      "1/1 [==============================] - 0s 60ms/step - loss: 7.7681e-04 - mae: 0.0218 - val_loss: 0.0474 - val_mae: 0.1831\n",
      "Epoch 98/100\n",
      "1/1 [==============================] - 0s 57ms/step - loss: 7.4810e-04 - mae: 0.0214 - val_loss: 0.0474 - val_mae: 0.1832\n",
      "Epoch 99/100\n",
      "1/1 [==============================] - 0s 55ms/step - loss: 7.1974e-04 - mae: 0.0210 - val_loss: 0.0474 - val_mae: 0.1833\n",
      "Epoch 100/100\n",
      "1/1 [==============================] - 0s 57ms/step - loss: 6.9215e-04 - mae: 0.0205 - val_loss: 0.0474 - val_mae: 0.1835\n"
     ]
    }
   ],
   "source": [
    "history = model.fit(X_train_scaled, y_train, validation_split=0.2, epochs =100) #10"
   ]
  },
  {
   "cell_type": "code",
   "execution_count": 30,
   "id": "f9941fc6",
   "metadata": {},
   "outputs": [
    {
     "data": {
      "image/png": "[encoded data removed]",
      "text/plain": [
       "<Figure size 432x288 with 1 Axes>"
      ]
     },
     "metadata": {
      "needs_background": "light"
     },
     "output_type": "display_data"
    }
   ],
   "source": [
    "#plot the training and validation accuracy and loss at each epoch\n",
    "loss = history.history['loss']\n",
    "val_loss = history.history['val_loss']\n",
    "epochs = range(1, len(loss) + 1)\n",
    "plt.plot(epochs, loss, 'y', label='Training loss')\n",
    "plt.plot(epochs, val_loss, 'r', label='Validation loss')\n",
    "plt.title('Training and validation loss')\n",
    "plt.xlabel('Epochs')\n",
    "plt.ylabel('Loss')\n",
    "plt.legend()\n",
    "plt.show()"
   ]
  },
  {
   "cell_type": "code",
   "execution_count": 31,
   "id": "6ae5c357",
   "metadata": {},
   "outputs": [
    {
     "data": {
      "image/png": "[encoded data removed]",
      "text/plain": [
       "<Figure size 432x288 with 1 Axes>"
      ]
     },
     "metadata": {
      "needs_background": "light"
     },
     "output_type": "display_data"
    }
   ],
   "source": [
    "acc = history.history['mae']\n",
    "val_acc = history.history['val_mae']\n",
    "plt.plot(epochs, acc, 'y', label='Training MAE')\n",
    "plt.plot(epochs, val_acc, 'r', label='Validation MAE')\n",
    "plt.title('Training and validation MAE')\n",
    "plt.xlabel('Epochs')\n",
    "plt.ylabel('Accuracy')\n",
    "plt.legend()\n",
    "plt.show()"
   ]
  },
  {
   "cell_type": "code",
   "execution_count": 32,
   "id": "4992a911",
   "metadata": {},
   "outputs": [
    {
     "name": "stdout",
     "output_type": "stream",
     "text": [
      "[[-2.39792255 -2.29180362  1.20836224 -1.47906416  2.05394611]\n",
      " [ 0.40939687  0.33369743 -0.43540178  0.45235983 -0.68274027]\n",
      " [ 1.31950485  1.38721464 -0.43540178  1.02162163 -0.95755397]\n",
      " [-0.54450836 -0.57318275  0.11251956 -0.34054054  0.27910766]\n",
      " [ 0.4180062   0.34242582  0.11251956  0.45235983 -0.84304826]]\n"
     ]
    }
   ],
   "source": [
    "print(X_test_scaled) "
   ]
  },
  {
   "cell_type": "code",
   "execution_count": 33,
   "id": "3328b4bb",
   "metadata": {},
   "outputs": [
    {
     "name": "stdout",
     "output_type": "stream",
     "text": [
      "[ 0.40939687  0.33369743 -0.43540178  0.45235983 -0.68274027]\n"
     ]
    }
   ],
   "source": [
    "print(X_test_scaled[1,:])"
   ]
  },
  {
   "cell_type": "code",
   "execution_count": 34,
   "id": "34e85702",
   "metadata": {},
   "outputs": [
    {
     "data": {
      "text/plain": [
       "array([[0.37797242],\n",
       "       [0.37945545],\n",
       "       [0.7812112 ],\n",
       "       [0.2613008 ],\n",
       "       [0.4751659 ]], dtype=float32)"
      ]
     },
     "execution_count": 34,
     "metadata": {},
     "output_type": "execute_result"
    }
   ],
   "source": [
    "model.predict(X_test_scaled[:5])"
   ]
  },
  {
   "cell_type": "code",
   "execution_count": 35,
   "id": "3bc9dc12",
   "metadata": {},
   "outputs": [
    {
     "name": "stdout",
     "output_type": "stream",
     "text": [
      "Predicted values are:  [[0.37797242]\n",
      " [0.37945545]\n",
      " [0.7812112 ]\n",
      " [0.2613008 ]\n",
      " [0.4751659 ]]\n",
      "Real values are:  16    0.30\n",
      "19    0.67\n",
      "18    0.78\n",
      "4     0.50\n",
      "1     0.70\n",
      "Name: ROP, dtype: float64\n"
     ]
    }
   ],
   "source": [
    "#Predict on test data\n",
    "predictions = model.predict(X_test_scaled[:5])#11\n",
    "print(\"Predicted values are: \", predictions)\n",
    "print(\"Real values are: \", y_test[:5])"
   ]
  },
  {
   "cell_type": "code",
   "execution_count": 36,
   "id": "8af04c77",
   "metadata": {},
   "outputs": [
    {
     "name": "stdout",
     "output_type": "stream",
     "text": [
      "1/1 [==============================] - 0s 103ms/step - loss: 0.0396 - mae: 0.1667\n",
      "Mean squared error from neural net:  0.039604999125003815\n",
      "Mean absolute error from neural net:  0.16665229201316833\n"
     ]
    }
   ],
   "source": [
    "#Comparison with other models..\n",
    "#Neural network - from the current code\n",
    "mse_neural, mae_neural = model.evaluate(X_test_scaled, y_test)\n",
    "print('Mean squared error from neural net: ', mse_neural)\n",
    "print('Mean absolute error from neural net: ', mae_neural)"
   ]
  },
  {
   "cell_type": "code",
   "execution_count": 37,
   "id": "5efc76ef",
   "metadata": {},
   "outputs": [
    {
     "name": "stdout",
     "output_type": "stream",
     "text": [
      "1/1 [==============================] - 0s 117ms/step - loss: 0.0396 - mae: 0.1667\n"
     ]
    },
    {
     "data": {
      "text/plain": [
       "[0.039604999125003815, 0.16665229201316833]"
      ]
     },
     "execution_count": 37,
     "metadata": {},
     "output_type": "execute_result"
    }
   ],
   "source": [
    "model.evaluate(X_test_scaled, y_test) #12"
   ]
  },
  {
   "cell_type": "code",
   "execution_count": 38,
   "id": "918934e8",
   "metadata": {},
   "outputs": [
    {
     "name": "stdout",
     "output_type": "stream",
     "text": [
      "Mean squared error from linear regression:  7.58755773163138e-05\n",
      "Mean absolute error from linear regression:  0.008006697605628466\n"
     ]
    }
   ],
   "source": [
    "#Linear regression\n",
    "lr_model = linear_model.LinearRegression()\n",
    "lr_model.fit(X_train_scaled, y_train)\n",
    "y_pred_lr = lr_model.predict(X_test_scaled)\n",
    "mse_lr = mean_squared_error(y_test, y_pred_lr)\n",
    "mae_lr = mean_absolute_error(y_test, y_pred_lr)\n",
    "print('Mean squared error from linear regression: ', mse_lr)\n",
    "print('Mean absolute error from linear regression: ', mae_lr)"
   ]
  },
  {
   "cell_type": "code",
   "execution_count": 39,
   "id": "e18522ed",
   "metadata": {},
   "outputs": [
    {
     "name": "stdout",
     "output_type": "stream",
     "text": [
      "Mean squared error using decision tree:  0.003320000000000001\n",
      "Mean absolute error using decision tree:  0.040000000000000015\n"
     ]
    }
   ],
   "source": [
    "### Decision tree\n",
    "tree = DecisionTreeRegressor()\n",
    "tree.fit(X_train_scaled, y_train)\n",
    "y_pred_tree = tree.predict(X_test_scaled)\n",
    "mse_dt = mean_squared_error(y_test, y_pred_tree)\n",
    "mae_dt = mean_absolute_error(y_test, y_pred_tree)\n",
    "print('Mean squared error using decision tree: ', mse_dt)\n",
    "print('Mean absolute error using decision tree: ', mae_dt)"
   ]
  },
  {
   "cell_type": "code",
   "execution_count": 40,
   "id": "a1d15c7f",
   "metadata": {},
   "outputs": [
    {
     "name": "stdout",
     "output_type": "stream",
     "text": [
      "Mean squared error using Random Forest:  0.0016080444444444466\n",
      "Mean absolute error Using Random Forest:  0.031999999999999994\n"
     ]
    }
   ],
   "source": [
    "#random forrest\n",
    "model = RandomForestRegressor(n_estimators = 30, random_state=30)\n",
    "model.fit(X_train_scaled, y_train)\n",
    "\n",
    "y_pred_RF = model.predict(X_test_scaled)\n",
    "\n",
    "mse_RF = mean_squared_error(y_test, y_pred_RF)\n",
    "mae_RF = mean_absolute_error(y_test, y_pred_RF)\n",
    "print('Mean squared error using Random Forest: ', mse_RF)\n",
    "print('Mean absolute error Using Random Forest: ', mae_RF)"
   ]
  },
  {
   "cell_type": "code",
   "execution_count": 41,
   "id": "ff2f8c25",
   "metadata": {},
   "outputs": [
    {
     "name": "stdout",
     "output_type": "stream",
     "text": [
      "SE_kwh          0.690100\n",
      "Torque          0.193432\n",
      "WOB             0.059391\n",
      "Depth_of_cut    0.043660\n",
      "RPM             0.013417\n",
      "dtype: float64\n"
     ]
    }
   ],
   "source": [
    "#Feature ranking...\n",
    "feature_list = list(X.columns)\n",
    "feature_imp = pd.Series(model.feature_importances_, index=feature_list).sort_values(ascending=False)\n",
    "print(feature_imp)"
   ]
  },
  {
   "cell_type": "code",
   "execution_count": null,
   "id": "1c962831",
   "metadata": {},
   "outputs": [],
   "source": [
    "#MAE is less biased for higher values. It may not adequately reflect the performance when dealing with large error values. MSE is highly biased for higher values. RMSE is better in terms of reflecting performance when dealing with large error values."
   ]
  }
 ],
 "metadata": {
  "kernelspec": {
   "display_name": "Python 3 (ipykernel)",
   "language": "python",
   "name": "python3"
  },
  "language_info": {
   "codemirror_mode": {
    "name": "ipython",
    "version": 3
   },
   "file_extension": ".py",
   "mimetype": "text/x-python",
   "name": "python",
   "nbconvert_exporter": "python",
   "pygments_lexer": "ipython3",
   "version": "3.9.12"
  }
 },
 "nbformat": 4,
 "nbformat_minor": 5
}
